{
 "cells": [
  {
   "cell_type": "code",
   "execution_count": 2,
   "metadata": {},
   "outputs": [],
   "source": [
    "import pandas as pd\n",
    "import numpy as np\n",
    "import matplotlib.pyplot as plt\n",
    "import pandas_datareader as pdr\n",
    "from datetime import datetime"
   ]
  },
  {
   "cell_type": "code",
   "execution_count": 3,
   "metadata": {},
   "outputs": [],
   "source": [
    "#read sdg data for companies"
   ]
  },
  {
   "cell_type": "code",
   "execution_count": 4,
   "metadata": {},
   "outputs": [
    {
     "name": "stderr",
     "output_type": "stream",
     "text": [
      "C:\\Program1\\Anaconda\\lib\\site-packages\\IPython\\core\\interactiveshell.py:3049: DtypeWarning: Columns (109,110) have mixed types. Specify dtype option on import or set low_memory=False.\n",
      "  interactivity=interactivity, compiler=compiler, result=result)\n"
     ]
    }
   ],
   "source": [
    "SDG_zscore = pd.read_csv('whole_data_price.csv')\n",
    "US_stock = pd.read_csv('UScompanies.csv')\n",
    "US_stocks = list(US_stock.Ticker_new.unique())\n",
    "SDG_zscore_US = SDG_zscore[SDG_zscore['Ticker'].isin(US_stocks)]\n",
    "\n",
    "sector_list = list(SDG_zscore_US['Sector'].unique())\n",
    "company_list = list(SDG_zscore_US['Ticker'].unique())"
   ]
  },
  {
   "cell_type": "code",
   "execution_count": 5,
   "metadata": {},
   "outputs": [
    {
     "data": {
      "text/html": [
       "<div>\n",
       "<style scoped>\n",
       "    .dataframe tbody tr th:only-of-type {\n",
       "        vertical-align: middle;\n",
       "    }\n",
       "\n",
       "    .dataframe tbody tr th {\n",
       "        vertical-align: top;\n",
       "    }\n",
       "\n",
       "    .dataframe thead th {\n",
       "        text-align: right;\n",
       "    }\n",
       "</style>\n",
       "<table border=\"1\" class=\"dataframe\">\n",
       "  <thead>\n",
       "    <tr style=\"text-align: right;\">\n",
       "      <th></th>\n",
       "      <th>Unnamed: 0</th>\n",
       "      <th>COMPANY</th>\n",
       "      <th>DATE</th>\n",
       "      <th>SDG_1</th>\n",
       "      <th>z_score_1</th>\n",
       "      <th>COUNT_1</th>\n",
       "      <th>MA_1</th>\n",
       "      <th>MA2_1</th>\n",
       "      <th>SDG_MOM_1</th>\n",
       "      <th>SDG_2</th>\n",
       "      <th>...</th>\n",
       "      <th>Low</th>\n",
       "      <th>Close</th>\n",
       "      <th>Volume</th>\n",
       "      <th>Dividend</th>\n",
       "      <th>Split</th>\n",
       "      <th>Adj_Open</th>\n",
       "      <th>Adj_High</th>\n",
       "      <th>Adj_Low</th>\n",
       "      <th>Adj_Close</th>\n",
       "      <th>Adj_Volume</th>\n",
       "    </tr>\n",
       "  </thead>\n",
       "  <tbody>\n",
       "    <tr>\n",
       "      <th>0</th>\n",
       "      <td>0</td>\n",
       "      <td>ABBOTT LABORATORIES</td>\n",
       "      <td>2015-02-19</td>\n",
       "      <td>-0.895522</td>\n",
       "      <td>-0.441850</td>\n",
       "      <td>1.0</td>\n",
       "      <td>NaN</td>\n",
       "      <td>NaN</td>\n",
       "      <td>NaN</td>\n",
       "      <td>-0.895522</td>\n",
       "      <td>...</td>\n",
       "      <td>46.0850</td>\n",
       "      <td>46.61</td>\n",
       "      <td>6590305.0</td>\n",
       "      <td>0.0</td>\n",
       "      <td>1.0</td>\n",
       "      <td>42.359521</td>\n",
       "      <td>42.642771</td>\n",
       "      <td>42.108251</td>\n",
       "      <td>42.587948</td>\n",
       "      <td>6590305.0</td>\n",
       "    </tr>\n",
       "    <tr>\n",
       "      <th>1</th>\n",
       "      <td>1</td>\n",
       "      <td>ABBOTT LABORATORIES</td>\n",
       "      <td>2015-02-20</td>\n",
       "      <td>NaN</td>\n",
       "      <td>NaN</td>\n",
       "      <td>NaN</td>\n",
       "      <td>NaN</td>\n",
       "      <td>NaN</td>\n",
       "      <td>NaN</td>\n",
       "      <td>NaN</td>\n",
       "      <td>...</td>\n",
       "      <td>46.4000</td>\n",
       "      <td>47.48</td>\n",
       "      <td>6512461.0</td>\n",
       "      <td>0.0</td>\n",
       "      <td>1.0</td>\n",
       "      <td>42.514852</td>\n",
       "      <td>43.465108</td>\n",
       "      <td>42.396069</td>\n",
       "      <td>43.382875</td>\n",
       "      <td>6512461.0</td>\n",
       "    </tr>\n",
       "    <tr>\n",
       "      <th>2</th>\n",
       "      <td>2</td>\n",
       "      <td>ABBOTT LABORATORIES</td>\n",
       "      <td>2015-02-21</td>\n",
       "      <td>NaN</td>\n",
       "      <td>NaN</td>\n",
       "      <td>NaN</td>\n",
       "      <td>NaN</td>\n",
       "      <td>NaN</td>\n",
       "      <td>NaN</td>\n",
       "      <td>NaN</td>\n",
       "      <td>...</td>\n",
       "      <td>NaN</td>\n",
       "      <td>NaN</td>\n",
       "      <td>NaN</td>\n",
       "      <td>NaN</td>\n",
       "      <td>NaN</td>\n",
       "      <td>NaN</td>\n",
       "      <td>NaN</td>\n",
       "      <td>NaN</td>\n",
       "      <td>NaN</td>\n",
       "      <td>NaN</td>\n",
       "    </tr>\n",
       "    <tr>\n",
       "      <th>3</th>\n",
       "      <td>3</td>\n",
       "      <td>ABBOTT LABORATORIES</td>\n",
       "      <td>2015-02-22</td>\n",
       "      <td>NaN</td>\n",
       "      <td>NaN</td>\n",
       "      <td>NaN</td>\n",
       "      <td>NaN</td>\n",
       "      <td>NaN</td>\n",
       "      <td>NaN</td>\n",
       "      <td>NaN</td>\n",
       "      <td>...</td>\n",
       "      <td>NaN</td>\n",
       "      <td>NaN</td>\n",
       "      <td>NaN</td>\n",
       "      <td>NaN</td>\n",
       "      <td>NaN</td>\n",
       "      <td>NaN</td>\n",
       "      <td>NaN</td>\n",
       "      <td>NaN</td>\n",
       "      <td>NaN</td>\n",
       "      <td>NaN</td>\n",
       "    </tr>\n",
       "    <tr>\n",
       "      <th>4</th>\n",
       "      <td>4</td>\n",
       "      <td>ABBOTT LABORATORIES</td>\n",
       "      <td>2015-02-23</td>\n",
       "      <td>-3.045685</td>\n",
       "      <td>-1.502737</td>\n",
       "      <td>1.0</td>\n",
       "      <td>NaN</td>\n",
       "      <td>NaN</td>\n",
       "      <td>NaN</td>\n",
       "      <td>NaN</td>\n",
       "      <td>...</td>\n",
       "      <td>47.0235</td>\n",
       "      <td>47.32</td>\n",
       "      <td>5608147.0</td>\n",
       "      <td>0.0</td>\n",
       "      <td>1.0</td>\n",
       "      <td>43.245818</td>\n",
       "      <td>43.401149</td>\n",
       "      <td>42.965767</td>\n",
       "      <td>43.236681</td>\n",
       "      <td>5608147.0</td>\n",
       "    </tr>\n",
       "  </tbody>\n",
       "</table>\n",
       "<p>5 rows × 139 columns</p>\n",
       "</div>"
      ],
      "text/plain": [
       "   Unnamed: 0              COMPANY        DATE     SDG_1  z_score_1  COUNT_1  \\\n",
       "0           0  ABBOTT LABORATORIES  2015-02-19 -0.895522  -0.441850      1.0   \n",
       "1           1  ABBOTT LABORATORIES  2015-02-20       NaN        NaN      NaN   \n",
       "2           2  ABBOTT LABORATORIES  2015-02-21       NaN        NaN      NaN   \n",
       "3           3  ABBOTT LABORATORIES  2015-02-22       NaN        NaN      NaN   \n",
       "4           4  ABBOTT LABORATORIES  2015-02-23 -3.045685  -1.502737      1.0   \n",
       "\n",
       "   MA_1  MA2_1  SDG_MOM_1     SDG_2  ...      Low  Close     Volume  Dividend  \\\n",
       "0   NaN    NaN        NaN -0.895522  ...  46.0850  46.61  6590305.0       0.0   \n",
       "1   NaN    NaN        NaN       NaN  ...  46.4000  47.48  6512461.0       0.0   \n",
       "2   NaN    NaN        NaN       NaN  ...      NaN    NaN        NaN       NaN   \n",
       "3   NaN    NaN        NaN       NaN  ...      NaN    NaN        NaN       NaN   \n",
       "4   NaN    NaN        NaN       NaN  ...  47.0235  47.32  5608147.0       0.0   \n",
       "\n",
       "   Split   Adj_Open   Adj_High    Adj_Low  Adj_Close  Adj_Volume  \n",
       "0    1.0  42.359521  42.642771  42.108251  42.587948   6590305.0  \n",
       "1    1.0  42.514852  43.465108  42.396069  43.382875   6512461.0  \n",
       "2    NaN        NaN        NaN        NaN        NaN         NaN  \n",
       "3    NaN        NaN        NaN        NaN        NaN         NaN  \n",
       "4    1.0  43.245818  43.401149  42.965767  43.236681   5608147.0  \n",
       "\n",
       "[5 rows x 139 columns]"
      ]
     },
     "execution_count": 5,
     "metadata": {},
     "output_type": "execute_result"
    }
   ],
   "source": [
    "SDG_zscore_US.head()"
   ]
  },
  {
   "cell_type": "code",
   "execution_count": null,
   "metadata": {},
   "outputs": [],
   "source": []
  },
  {
   "cell_type": "code",
   "execution_count": 6,
   "metadata": {},
   "outputs": [
    {
     "name": "stderr",
     "output_type": "stream",
     "text": [
      "C:\\Program1\\Anaconda\\lib\\site-packages\\pandas\\core\\frame.py:3940: SettingWithCopyWarning: \n",
      "A value is trying to be set on a copy of a slice from a DataFrame\n",
      "\n",
      "See the caveats in the documentation: http://pandas.pydata.org/pandas-docs/stable/indexing.html#indexing-view-versus-copy\n",
      "  errors=errors)\n"
     ]
    },
    {
     "data": {
      "text/html": [
       "<div>\n",
       "<style scoped>\n",
       "    .dataframe tbody tr th:only-of-type {\n",
       "        vertical-align: middle;\n",
       "    }\n",
       "\n",
       "    .dataframe tbody tr th {\n",
       "        vertical-align: top;\n",
       "    }\n",
       "\n",
       "    .dataframe thead th {\n",
       "        text-align: right;\n",
       "    }\n",
       "</style>\n",
       "<table border=\"1\" class=\"dataframe\">\n",
       "  <thead>\n",
       "    <tr style=\"text-align: right;\">\n",
       "      <th></th>\n",
       "      <th>COMPANY</th>\n",
       "      <th>DATE</th>\n",
       "      <th>Ticker</th>\n",
       "      <th>SDG_agg</th>\n",
       "      <th>Sector</th>\n",
       "      <th>yr_n</th>\n",
       "    </tr>\n",
       "  </thead>\n",
       "  <tbody>\n",
       "    <tr>\n",
       "      <th>0</th>\n",
       "      <td>ABBOTT LABORATORIES</td>\n",
       "      <td>2015-02-19</td>\n",
       "      <td>ABT</td>\n",
       "      <td>-0.705420</td>\n",
       "      <td>Health Care</td>\n",
       "      <td>2015.0</td>\n",
       "    </tr>\n",
       "    <tr>\n",
       "      <th>1</th>\n",
       "      <td>ABBOTT LABORATORIES</td>\n",
       "      <td>2015-02-20</td>\n",
       "      <td>ABT</td>\n",
       "      <td>-0.598721</td>\n",
       "      <td>Health Care</td>\n",
       "      <td>2015.0</td>\n",
       "    </tr>\n",
       "    <tr>\n",
       "      <th>2</th>\n",
       "      <td>ABBOTT LABORATORIES</td>\n",
       "      <td>2015-02-21</td>\n",
       "      <td>ABT</td>\n",
       "      <td>-1.019541</td>\n",
       "      <td>Health Care</td>\n",
       "      <td>2015.0</td>\n",
       "    </tr>\n",
       "    <tr>\n",
       "      <th>3</th>\n",
       "      <td>ABBOTT LABORATORIES</td>\n",
       "      <td>2015-02-22</td>\n",
       "      <td>ABT</td>\n",
       "      <td>0.111221</td>\n",
       "      <td>Health Care</td>\n",
       "      <td>2015.0</td>\n",
       "    </tr>\n",
       "    <tr>\n",
       "      <th>4</th>\n",
       "      <td>ABBOTT LABORATORIES</td>\n",
       "      <td>2015-02-23</td>\n",
       "      <td>ABT</td>\n",
       "      <td>-0.272006</td>\n",
       "      <td>Health Care</td>\n",
       "      <td>2015.0</td>\n",
       "    </tr>\n",
       "  </tbody>\n",
       "</table>\n",
       "</div>"
      ],
      "text/plain": [
       "               COMPANY        DATE Ticker   SDG_agg       Sector    yr_n\n",
       "0  ABBOTT LABORATORIES  2015-02-19    ABT -0.705420  Health Care  2015.0\n",
       "1  ABBOTT LABORATORIES  2015-02-20    ABT -0.598721  Health Care  2015.0\n",
       "2  ABBOTT LABORATORIES  2015-02-21    ABT -1.019541  Health Care  2015.0\n",
       "3  ABBOTT LABORATORIES  2015-02-22    ABT  0.111221  Health Care  2015.0\n",
       "4  ABBOTT LABORATORIES  2015-02-23    ABT -0.272006  Health Care  2015.0"
      ]
     },
     "execution_count": 6,
     "metadata": {},
     "output_type": "execute_result"
    }
   ],
   "source": [
    "SDG_zscore_US.drop(SDG_zscore_US[['Unnamed: 0', 'ISSUERID', 'ISSUER_CUSIP', 'ISSUER_SEDOL', 'ISSUER_ISIN', \n",
    "                                  'ISSUER_CNTRY_DOMICILE', 'IVA_PREVIOUS_RATING', 'IVA_RATING_TREND'\n",
    "                                 , 'SDG_average', 'zscore_average', 'MA_average']], axis=1, inplace=True)\n",
    "\n",
    "SDG_zscore_US = SDG_zscore_US.fillna(0)\n",
    "Names=['SDG_'+str(i+1) for i in range(17)]\n",
    "SDG_zscore_US[\"SDG_agg\"] = SDG_zscore_US[Names].apply('mean',axis=1)\n",
    "SDG_stm_US = SDG_zscore_US[['COMPANY', 'DATE', 'Ticker', 'SDG_agg', 'Sector', 'yr_n']]\n",
    "SDG_stm_US.head()"
   ]
  },
  {
   "cell_type": "code",
   "execution_count": 7,
   "metadata": {},
   "outputs": [
    {
     "data": {
      "text/html": [
       "<div>\n",
       "<style scoped>\n",
       "    .dataframe tbody tr th:only-of-type {\n",
       "        vertical-align: middle;\n",
       "    }\n",
       "\n",
       "    .dataframe tbody tr th {\n",
       "        vertical-align: top;\n",
       "    }\n",
       "\n",
       "    .dataframe thead th {\n",
       "        text-align: right;\n",
       "    }\n",
       "</style>\n",
       "<table border=\"1\" class=\"dataframe\">\n",
       "  <thead>\n",
       "    <tr style=\"text-align: right;\">\n",
       "      <th></th>\n",
       "      <th>COMPANY</th>\n",
       "      <th>DATE</th>\n",
       "      <th>Ticker</th>\n",
       "      <th>SDG_agg</th>\n",
       "      <th>Sector</th>\n",
       "      <th>yr_n</th>\n",
       "    </tr>\n",
       "  </thead>\n",
       "  <tbody>\n",
       "    <tr>\n",
       "      <th>0</th>\n",
       "      <td>ABBOTT LABORATORIES</td>\n",
       "      <td>2015-02-19</td>\n",
       "      <td>ABT</td>\n",
       "      <td>-0.705420</td>\n",
       "      <td>Health Care</td>\n",
       "      <td>2015.0</td>\n",
       "    </tr>\n",
       "    <tr>\n",
       "      <th>1</th>\n",
       "      <td>ABBOTT LABORATORIES</td>\n",
       "      <td>2015-02-20</td>\n",
       "      <td>ABT</td>\n",
       "      <td>-0.598721</td>\n",
       "      <td>Health Care</td>\n",
       "      <td>2015.0</td>\n",
       "    </tr>\n",
       "    <tr>\n",
       "      <th>2</th>\n",
       "      <td>ABBOTT LABORATORIES</td>\n",
       "      <td>2015-02-21</td>\n",
       "      <td>ABT</td>\n",
       "      <td>-1.019541</td>\n",
       "      <td>Health Care</td>\n",
       "      <td>2015.0</td>\n",
       "    </tr>\n",
       "    <tr>\n",
       "      <th>3</th>\n",
       "      <td>ABBOTT LABORATORIES</td>\n",
       "      <td>2015-02-22</td>\n",
       "      <td>ABT</td>\n",
       "      <td>0.111221</td>\n",
       "      <td>Health Care</td>\n",
       "      <td>2015.0</td>\n",
       "    </tr>\n",
       "    <tr>\n",
       "      <th>4</th>\n",
       "      <td>ABBOTT LABORATORIES</td>\n",
       "      <td>2015-02-23</td>\n",
       "      <td>ABT</td>\n",
       "      <td>-0.272006</td>\n",
       "      <td>Health Care</td>\n",
       "      <td>2015.0</td>\n",
       "    </tr>\n",
       "  </tbody>\n",
       "</table>\n",
       "</div>"
      ],
      "text/plain": [
       "               COMPANY        DATE Ticker   SDG_agg       Sector    yr_n\n",
       "0  ABBOTT LABORATORIES  2015-02-19    ABT -0.705420  Health Care  2015.0\n",
       "1  ABBOTT LABORATORIES  2015-02-20    ABT -0.598721  Health Care  2015.0\n",
       "2  ABBOTT LABORATORIES  2015-02-21    ABT -1.019541  Health Care  2015.0\n",
       "3  ABBOTT LABORATORIES  2015-02-22    ABT  0.111221  Health Care  2015.0\n",
       "4  ABBOTT LABORATORIES  2015-02-23    ABT -0.272006  Health Care  2015.0"
      ]
     },
     "execution_count": 7,
     "metadata": {},
     "output_type": "execute_result"
    }
   ],
   "source": [
    "#SDG_stm_US = c\n",
    "SDG_stm_US.head()"
   ]
  },
  {
   "cell_type": "code",
   "execution_count": null,
   "metadata": {},
   "outputs": [],
   "source": []
  },
  {
   "cell_type": "code",
   "execution_count": 8,
   "metadata": {},
   "outputs": [
    {
     "name": "stderr",
     "output_type": "stream",
     "text": [
      "C:\\Program1\\Anaconda\\lib\\site-packages\\ipykernel_launcher.py:1: SettingWithCopyWarning: \n",
      "A value is trying to be set on a copy of a slice from a DataFrame.\n",
      "Try using .loc[row_indexer,col_indexer] = value instead\n",
      "\n",
      "See the caveats in the documentation: http://pandas.pydata.org/pandas-docs/stable/indexing.html#indexing-view-versus-copy\n",
      "  \"\"\"Entry point for launching an IPython kernel.\n"
     ]
    }
   ],
   "source": [
    "SDG_stm_US['Date'] = pd.to_datetime(SDG_stm_US['DATE'])\n",
    "SDG_stm_US = SDG_stm_US.drop(columns='DATE')\n",
    "SDG_stm_US = SDG_stm_US.set_index('Date')"
   ]
  },
  {
   "cell_type": "code",
   "execution_count": 9,
   "metadata": {},
   "outputs": [
    {
     "data": {
      "text/html": [
       "<div>\n",
       "<style scoped>\n",
       "    .dataframe tbody tr th:only-of-type {\n",
       "        vertical-align: middle;\n",
       "    }\n",
       "\n",
       "    .dataframe tbody tr th {\n",
       "        vertical-align: top;\n",
       "    }\n",
       "\n",
       "    .dataframe thead th {\n",
       "        text-align: right;\n",
       "    }\n",
       "</style>\n",
       "<table border=\"1\" class=\"dataframe\">\n",
       "  <thead>\n",
       "    <tr style=\"text-align: right;\">\n",
       "      <th></th>\n",
       "      <th>COMPANY</th>\n",
       "      <th>Ticker</th>\n",
       "      <th>SDG_agg</th>\n",
       "      <th>Sector</th>\n",
       "      <th>yr_n</th>\n",
       "    </tr>\n",
       "    <tr>\n",
       "      <th>Date</th>\n",
       "      <th></th>\n",
       "      <th></th>\n",
       "      <th></th>\n",
       "      <th></th>\n",
       "      <th></th>\n",
       "    </tr>\n",
       "  </thead>\n",
       "  <tbody>\n",
       "    <tr>\n",
       "      <th>2015-02-19</th>\n",
       "      <td>ABBOTT LABORATORIES</td>\n",
       "      <td>ABT</td>\n",
       "      <td>-0.705420</td>\n",
       "      <td>Health Care</td>\n",
       "      <td>2015.0</td>\n",
       "    </tr>\n",
       "    <tr>\n",
       "      <th>2015-02-20</th>\n",
       "      <td>ABBOTT LABORATORIES</td>\n",
       "      <td>ABT</td>\n",
       "      <td>-0.598721</td>\n",
       "      <td>Health Care</td>\n",
       "      <td>2015.0</td>\n",
       "    </tr>\n",
       "    <tr>\n",
       "      <th>2015-02-21</th>\n",
       "      <td>ABBOTT LABORATORIES</td>\n",
       "      <td>ABT</td>\n",
       "      <td>-1.019541</td>\n",
       "      <td>Health Care</td>\n",
       "      <td>2015.0</td>\n",
       "    </tr>\n",
       "    <tr>\n",
       "      <th>2015-02-22</th>\n",
       "      <td>ABBOTT LABORATORIES</td>\n",
       "      <td>ABT</td>\n",
       "      <td>0.111221</td>\n",
       "      <td>Health Care</td>\n",
       "      <td>2015.0</td>\n",
       "    </tr>\n",
       "    <tr>\n",
       "      <th>2015-02-23</th>\n",
       "      <td>ABBOTT LABORATORIES</td>\n",
       "      <td>ABT</td>\n",
       "      <td>-0.272006</td>\n",
       "      <td>Health Care</td>\n",
       "      <td>2015.0</td>\n",
       "    </tr>\n",
       "  </tbody>\n",
       "</table>\n",
       "</div>"
      ],
      "text/plain": [
       "                        COMPANY Ticker   SDG_agg       Sector    yr_n\n",
       "Date                                                                 \n",
       "2015-02-19  ABBOTT LABORATORIES    ABT -0.705420  Health Care  2015.0\n",
       "2015-02-20  ABBOTT LABORATORIES    ABT -0.598721  Health Care  2015.0\n",
       "2015-02-21  ABBOTT LABORATORIES    ABT -1.019541  Health Care  2015.0\n",
       "2015-02-22  ABBOTT LABORATORIES    ABT  0.111221  Health Care  2015.0\n",
       "2015-02-23  ABBOTT LABORATORIES    ABT -0.272006  Health Care  2015.0"
      ]
     },
     "execution_count": 9,
     "metadata": {},
     "output_type": "execute_result"
    }
   ],
   "source": [
    "SDG_stm_US.head()"
   ]
  },
  {
   "cell_type": "code",
   "execution_count": null,
   "metadata": {},
   "outputs": [],
   "source": []
  },
  {
   "cell_type": "code",
   "execution_count": 10,
   "metadata": {},
   "outputs": [],
   "source": [
    "sdg_monthly = SDG_stm_US.groupby(['Ticker','Sector']).resample('M').agg({'SDG_agg': 'mean'}).reset_index()"
   ]
  },
  {
   "cell_type": "code",
   "execution_count": 11,
   "metadata": {},
   "outputs": [],
   "source": [
    "sdg_monthly['SDG_agg_change'] = sdg_monthly.groupby('Ticker')['SDG_agg'].transform(pd.Series.diff)"
   ]
  },
  {
   "cell_type": "code",
   "execution_count": 12,
   "metadata": {},
   "outputs": [],
   "source": [
    "sdg_monthly = sdg_monthly.dropna()"
   ]
  },
  {
   "cell_type": "code",
   "execution_count": 13,
   "metadata": {},
   "outputs": [],
   "source": [
    "date_list = list(sdg_monthly['Date'].unique()[:-1])\n",
    "time = date_list[0]\n",
    "#date_list.append(sdg_monthly['Date'])"
   ]
  },
  {
   "cell_type": "code",
   "execution_count": 14,
   "metadata": {},
   "outputs": [
    {
     "data": {
      "text/plain": [
       "46"
      ]
     },
     "execution_count": 14,
     "metadata": {},
     "output_type": "execute_result"
    }
   ],
   "source": [
    "len(date_list)"
   ]
  },
  {
   "cell_type": "code",
   "execution_count": 15,
   "metadata": {},
   "outputs": [
    {
     "data": {
      "text/plain": [
       "47"
      ]
     },
     "execution_count": 15,
     "metadata": {},
     "output_type": "execute_result"
    }
   ],
   "source": [
    "date_list = list(sdg_monthly['Date'].unique())\n",
    "len(date_list)"
   ]
  },
  {
   "cell_type": "code",
   "execution_count": 16,
   "metadata": {},
   "outputs": [
    {
     "data": {
      "text/html": [
       "<div>\n",
       "<style scoped>\n",
       "    .dataframe tbody tr th:only-of-type {\n",
       "        vertical-align: middle;\n",
       "    }\n",
       "\n",
       "    .dataframe tbody tr th {\n",
       "        vertical-align: top;\n",
       "    }\n",
       "\n",
       "    .dataframe thead th {\n",
       "        text-align: right;\n",
       "    }\n",
       "</style>\n",
       "<table border=\"1\" class=\"dataframe\">\n",
       "  <thead>\n",
       "    <tr style=\"text-align: right;\">\n",
       "      <th></th>\n",
       "      <th>Date</th>\n",
       "      <th>Adj_Close</th>\n",
       "      <th>Ticker</th>\n",
       "      <th>Log_price</th>\n",
       "      <th>Log_ret</th>\n",
       "    </tr>\n",
       "  </thead>\n",
       "  <tbody>\n",
       "    <tr>\n",
       "      <th>0</th>\n",
       "      <td>2015-01-05</td>\n",
       "      <td>60.411518</td>\n",
       "      <td>KLAC</td>\n",
       "      <td>4.101180</td>\n",
       "      <td>-0.022589</td>\n",
       "    </tr>\n",
       "    <tr>\n",
       "      <th>1</th>\n",
       "      <td>2015-01-06</td>\n",
       "      <td>58.626952</td>\n",
       "      <td>KLAC</td>\n",
       "      <td>4.071195</td>\n",
       "      <td>-0.029985</td>\n",
       "    </tr>\n",
       "    <tr>\n",
       "      <th>2</th>\n",
       "      <td>2015-01-07</td>\n",
       "      <td>59.602749</td>\n",
       "      <td>KLAC</td>\n",
       "      <td>4.087702</td>\n",
       "      <td>0.016507</td>\n",
       "    </tr>\n",
       "    <tr>\n",
       "      <th>3</th>\n",
       "      <td>2015-01-08</td>\n",
       "      <td>60.596128</td>\n",
       "      <td>KLAC</td>\n",
       "      <td>4.104231</td>\n",
       "      <td>0.016529</td>\n",
       "    </tr>\n",
       "    <tr>\n",
       "      <th>4</th>\n",
       "      <td>2015-01-09</td>\n",
       "      <td>60.807111</td>\n",
       "      <td>KLAC</td>\n",
       "      <td>4.107707</td>\n",
       "      <td>0.003476</td>\n",
       "    </tr>\n",
       "  </tbody>\n",
       "</table>\n",
       "</div>"
      ],
      "text/plain": [
       "        Date  Adj_Close Ticker  Log_price   Log_ret\n",
       "0 2015-01-05  60.411518   KLAC   4.101180 -0.022589\n",
       "1 2015-01-06  58.626952   KLAC   4.071195 -0.029985\n",
       "2 2015-01-07  59.602749   KLAC   4.087702  0.016507\n",
       "3 2015-01-08  60.596128   KLAC   4.104231  0.016529\n",
       "4 2015-01-09  60.807111   KLAC   4.107707  0.003476"
      ]
     },
     "execution_count": 16,
     "metadata": {},
     "output_type": "execute_result"
    }
   ],
   "source": [
    "stock2015 = pd.read_csv(\"stock_price_year_2015.csv\")\n",
    "stock2016 = pd.read_csv(\"stock_price_year_2016.csv\")\n",
    "stock2017 = pd.read_csv(\"stock_price_year_2017.csv\")\n",
    "stock2018 = pd.read_csv(\"stock_price_year_2018.csv\")\n",
    "prices = pd.concat([stock2015, stock2016, stock2017, stock2018])\n",
    "prices = prices[prices['Ticker'].isin(company_list)]\n",
    "prices = prices[['Date','Adj_Close','Ticker']]\n",
    "\n",
    "prices['Date'] =pd.to_datetime(prices['Date'])\n",
    "prices['Log_price'] = np.log(prices.Adj_Close)\n",
    "prices['Log_ret'] = prices.groupby(['Ticker'])['Log_price'].transform(pd.Series.diff)\n",
    "\n",
    "prices.index = prices['Date']\n",
    "prices = prices.dropna()\n",
    "prices = prices.drop(columns='Date')\n",
    "\n",
    "prices = prices.reset_index()\n",
    "prices.head()"
   ]
  },
  {
   "cell_type": "code",
   "execution_count": 17,
   "metadata": {},
   "outputs": [],
   "source": [
    "prices['daily_return'] = prices.groupby('Ticker')['Adj_Close'].transform(pd.DataFrame.pct_change)\n",
    "prices = prices.dropna()\n",
    "prices['daily_return'] +=1\n",
    "prices = prices.set_index('Date')\n",
    "\n",
    "prices = prices.groupby(['Ticker']).resample('M').agg({'daily_return': np.product}).reset_index()\n",
    "prices['daily_return']  -=1\n"
   ]
  },
  {
   "cell_type": "code",
   "execution_count": 18,
   "metadata": {},
   "outputs": [
    {
     "data": {
      "text/html": [
       "<div>\n",
       "<style scoped>\n",
       "    .dataframe tbody tr th:only-of-type {\n",
       "        vertical-align: middle;\n",
       "    }\n",
       "\n",
       "    .dataframe tbody tr th {\n",
       "        vertical-align: top;\n",
       "    }\n",
       "\n",
       "    .dataframe thead th {\n",
       "        text-align: right;\n",
       "    }\n",
       "</style>\n",
       "<table border=\"1\" class=\"dataframe\">\n",
       "  <thead>\n",
       "    <tr style=\"text-align: right;\">\n",
       "      <th></th>\n",
       "      <th>Ticker</th>\n",
       "      <th>Date</th>\n",
       "      <th>daily_return</th>\n",
       "    </tr>\n",
       "  </thead>\n",
       "  <tbody>\n",
       "    <tr>\n",
       "      <th>0</th>\n",
       "      <td>A</td>\n",
       "      <td>2015-01-31</td>\n",
       "      <td>-0.051005</td>\n",
       "    </tr>\n",
       "    <tr>\n",
       "      <th>1</th>\n",
       "      <td>A</td>\n",
       "      <td>2015-02-28</td>\n",
       "      <td>0.117554</td>\n",
       "    </tr>\n",
       "    <tr>\n",
       "      <th>2</th>\n",
       "      <td>A</td>\n",
       "      <td>2015-03-31</td>\n",
       "      <td>-0.013242</td>\n",
       "    </tr>\n",
       "    <tr>\n",
       "      <th>3</th>\n",
       "      <td>A</td>\n",
       "      <td>2015-04-30</td>\n",
       "      <td>-0.004332</td>\n",
       "    </tr>\n",
       "    <tr>\n",
       "      <th>4</th>\n",
       "      <td>A</td>\n",
       "      <td>2015-05-31</td>\n",
       "      <td>-0.004351</td>\n",
       "    </tr>\n",
       "    <tr>\n",
       "      <th>5</th>\n",
       "      <td>A</td>\n",
       "      <td>2015-06-30</td>\n",
       "      <td>-0.061024</td>\n",
       "    </tr>\n",
       "    <tr>\n",
       "      <th>6</th>\n",
       "      <td>A</td>\n",
       "      <td>2015-07-31</td>\n",
       "      <td>0.061431</td>\n",
       "    </tr>\n",
       "    <tr>\n",
       "      <th>7</th>\n",
       "      <td>A</td>\n",
       "      <td>2015-08-31</td>\n",
       "      <td>-0.113309</td>\n",
       "    </tr>\n",
       "    <tr>\n",
       "      <th>8</th>\n",
       "      <td>A</td>\n",
       "      <td>2015-09-30</td>\n",
       "      <td>-0.051786</td>\n",
       "    </tr>\n",
       "    <tr>\n",
       "      <th>9</th>\n",
       "      <td>A</td>\n",
       "      <td>2015-10-31</td>\n",
       "      <td>0.099913</td>\n",
       "    </tr>\n",
       "  </tbody>\n",
       "</table>\n",
       "</div>"
      ],
      "text/plain": [
       "  Ticker       Date  daily_return\n",
       "0      A 2015-01-31     -0.051005\n",
       "1      A 2015-02-28      0.117554\n",
       "2      A 2015-03-31     -0.013242\n",
       "3      A 2015-04-30     -0.004332\n",
       "4      A 2015-05-31     -0.004351\n",
       "5      A 2015-06-30     -0.061024\n",
       "6      A 2015-07-31      0.061431\n",
       "7      A 2015-08-31     -0.113309\n",
       "8      A 2015-09-30     -0.051786\n",
       "9      A 2015-10-31      0.099913"
      ]
     },
     "execution_count": 18,
     "metadata": {},
     "output_type": "execute_result"
    }
   ],
   "source": [
    "prices.head(10)"
   ]
  },
  {
   "cell_type": "code",
   "execution_count": null,
   "metadata": {},
   "outputs": [],
   "source": []
  },
  {
   "cell_type": "code",
   "execution_count": null,
   "metadata": {},
   "outputs": [],
   "source": []
  },
  {
   "cell_type": "code",
   "execution_count": 19,
   "metadata": {},
   "outputs": [
    {
     "data": {
      "text/html": [
       "<div>\n",
       "<style scoped>\n",
       "    .dataframe tbody tr th:only-of-type {\n",
       "        vertical-align: middle;\n",
       "    }\n",
       "\n",
       "    .dataframe tbody tr th {\n",
       "        vertical-align: top;\n",
       "    }\n",
       "\n",
       "    .dataframe thead th {\n",
       "        text-align: right;\n",
       "    }\n",
       "</style>\n",
       "<table border=\"1\" class=\"dataframe\">\n",
       "  <thead>\n",
       "    <tr style=\"text-align: right;\">\n",
       "      <th></th>\n",
       "      <th>Log_ret_sp</th>\n",
       "      <th>Date</th>\n",
       "    </tr>\n",
       "  </thead>\n",
       "  <tbody>\n",
       "    <tr>\n",
       "      <th>1</th>\n",
       "      <td>-0.018447</td>\n",
       "      <td>2015-01-05</td>\n",
       "    </tr>\n",
       "    <tr>\n",
       "      <th>2</th>\n",
       "      <td>-0.008933</td>\n",
       "      <td>2015-01-06</td>\n",
       "    </tr>\n",
       "    <tr>\n",
       "      <th>3</th>\n",
       "      <td>0.011563</td>\n",
       "      <td>2015-01-07</td>\n",
       "    </tr>\n",
       "    <tr>\n",
       "      <th>4</th>\n",
       "      <td>0.017730</td>\n",
       "      <td>2015-01-08</td>\n",
       "    </tr>\n",
       "    <tr>\n",
       "      <th>5</th>\n",
       "      <td>-0.008439</td>\n",
       "      <td>2015-01-09</td>\n",
       "    </tr>\n",
       "  </tbody>\n",
       "</table>\n",
       "</div>"
      ],
      "text/plain": [
       "   Log_ret_sp       Date\n",
       "1   -0.018447 2015-01-05\n",
       "2   -0.008933 2015-01-06\n",
       "3    0.011563 2015-01-07\n",
       "4    0.017730 2015-01-08\n",
       "5   -0.008439 2015-01-09"
      ]
     },
     "execution_count": 19,
     "metadata": {},
     "output_type": "execute_result"
    }
   ],
   "source": [
    "sp_data=pdr.get_data_yahoo('^GSPC','2015-01-01','2018-12-31')\n",
    "sp_data['Log_price'] = np.log(sp_data['Adj Close'])\n",
    "sp_data['Log_ret_sp'] = sp_data['Log_price'].transform(pd.Series.diff)\n",
    "\n",
    "sp_data = sp_data.reset_index().dropna()\n",
    "sp_data = sp_data[['Log_ret_sp','Date']]\n",
    "sp_data.head()"
   ]
  },
  {
   "cell_type": "code",
   "execution_count": 20,
   "metadata": {},
   "outputs": [],
   "source": [
    "date_list = list(sdg_monthly['Date'].unique())"
   ]
  },
  {
   "cell_type": "code",
   "execution_count": 21,
   "metadata": {},
   "outputs": [
    {
     "data": {
      "text/plain": [
       "numpy.datetime64('2018-12-31T00:00:00.000000000')"
      ]
     },
     "execution_count": 21,
     "metadata": {},
     "output_type": "execute_result"
    }
   ],
   "source": [
    "date_list[45]"
   ]
  },
  {
   "cell_type": "code",
   "execution_count": 34,
   "metadata": {},
   "outputs": [
    {
     "data": {
      "text/plain": [
       "0"
      ]
     },
     "execution_count": 34,
     "metadata": {},
     "output_type": "execute_result"
    }
   ],
   "source": [
    "sector_list.index(sector_list[0])"
   ]
  },
  {
   "cell_type": "code",
   "execution_count": 69,
   "metadata": {},
   "outputs": [
    {
     "data": {
      "image/png": "[encoded data removed]",
      "text/plain": [
       "<Figure size 432x288 with 1 Axes>"
      ]
     },
     "metadata": {
      "needs_background": "light"
     },
     "output_type": "display_data"
    },
    {
     "data": {
      "image/png": "[encoded data removed]",
      "text/plain": [
       "<Figure size 432x288 with 1 Axes>"
      ]
     },
     "metadata": {
      "needs_background": "light"
     },
     "output_type": "display_data"
    },
    {
     "data": {
      "image/png": "[encoded data removed]",
      "text/plain": [
       "<Figure size 432x288 with 1 Axes>"
      ]
     },
     "metadata": {
      "needs_background": "light"
     },
     "output_type": "display_data"
    },
    {
     "data": {
      "image/png": "[encoded data removed]",
      "text/plain": [
       "<Figure size 432x288 with 1 Axes>"
      ]
     },
     "metadata": {
      "needs_background": "light"
     },
     "output_type": "display_data"
    },
    {
     "data": {
      "image/png": "[encoded data removed]",
      "text/plain": [
       "<Figure size 432x288 with 1 Axes>"
      ]
     },
     "metadata": {
      "needs_background": "light"
     },
     "output_type": "display_data"
    },
    {
     "data": {
      "image/png": "[encoded data removed]",
      "text/plain": [
       "<Figure size 432x288 with 1 Axes>"
      ]
     },
     "metadata": {
      "needs_background": "light"
     },
     "output_type": "display_data"
    },
    {
     "data": {
      "image/png": "[encoded data removed]",
      "text/plain": [
       "<Figure size 432x288 with 1 Axes>"
      ]
     },
     "metadata": {
      "needs_background": "light"
     },
     "output_type": "display_data"
    },
    {
     "data": {
      "image/png": "[encoded data removed]",
      "text/plain": [
       "<Figure size 432x288 with 1 Axes>"
      ]
     },
     "metadata": {
      "needs_background": "light"
     },
     "output_type": "display_data"
    },
    {
     "data": {
      "image/png": "[encoded data removed]",
      "text/plain": [
       "<Figure size 432x288 with 1 Axes>"
      ]
     },
     "metadata": {
      "needs_background": "light"
     },
     "output_type": "display_data"
    },
    {
     "data": {
      "image/png": "[encoded data removed]",
      "text/plain": [
       "<Figure size 432x288 with 1 Axes>"
      ]
     },
     "metadata": {
      "needs_background": "light"
     },
     "output_type": "display_data"
    },
    {
     "data": {
      "image/png": "[encoded data removed]",
      "text/plain": [
       "<Figure size 432x288 with 1 Axes>"
      ]
     },
     "metadata": {
      "needs_background": "light"
     },
     "output_type": "display_data"
    }
   ],
   "source": [
    "# compute sdg_zscore_change \n",
    "num_stocks_in_high = {}\n",
    "num_stocks_in_low = {}\n",
    "high_return_dict = {}\n",
    "low_return_dict = {}\n",
    "spread_dict = {}\n",
    "check_significance ={}\n",
    "\n",
    "percent = 0.2\n",
    "\n",
    "\n",
    "for sector in sector_list:\n",
    "    num_stocks_in_high[sector] = []\n",
    "    num_stocks_in_low[sector] = []\n",
    "    \n",
    "    high_return = [0]\n",
    "    low_return = [0]\n",
    "    time_frame = [date_list[0]]\n",
    "    \n",
    "    check_significance[sector] = []\n",
    "    \n",
    "    spread_list = []\n",
    "    \n",
    "    for time in date_list[:-1]:\n",
    "\n",
    "        group_1 = sdg_monthly[sdg_monthly['Sector']==sector]\n",
    "\n",
    "        num = group_1[group_1['Date']==time].sort_values(by = 'SDG_agg_change',ascending=False).shape[0]\n",
    "        high_low_size = round(num*percent)\n",
    "\n",
    "        \n",
    "        index = date_list.index(time) + 1\n",
    "        #high_group is the list that includes all the companies with high sdg scores\n",
    "        high_group = list(group_1[group_1['Date']==time].sort_values(by = 'SDG_agg_change',ascending=False)['Ticker'].iloc[0:high_low_size].values)\n",
    "        low_group = list(group_1[group_1['Date']==time].sort_values(by = 'SDG_agg_change',ascending=False)['Ticker'].iloc[-high_low_size:].values)\n",
    "        \n",
    "        #high_monthly is the dataframe that includes high sdg change stocks with monthly return \n",
    "        high_monthly = prices.loc[prices['Ticker'].isin(high_group)]\n",
    "        low_monthly = prices.loc[prices['Ticker'].isin(low_group)]\n",
    "\n",
    "        high_monthly = high_monthly.loc[high_monthly['Date'].isin(date_list)]\n",
    "        low_monthly = low_monthly.loc[low_monthly['Date'].isin(date_list)]\n",
    "\n",
    "        if index < len(date_list[:-1]):\n",
    "            return_h = high_monthly[high_monthly['Date']==date_list[index]]['daily_return'].mean()\n",
    "            return_l = low_monthly[low_monthly['Date']==date_list[index]]['daily_return'].mean()\n",
    "\n",
    "            time_frame.append(date_list[index])\n",
    "            high_return.append(return_h)\n",
    "            low_return.append(return_l)\n",
    "            \n",
    "            spread_list.append(return_h-return_l)\n",
    "            check_significance[sector].append(return_h-return_l)\n",
    "            \n",
    "            \n",
    "            num_stocks_in_high[sector].append(high_low_size)\n",
    "            num_stocks_in_low[sector].append(high_low_size)\n",
    "    \n",
    "    high_return_dict[sector] = np.mean(high_return)\n",
    "    low_return_dict[sector] = np.mean(low_return)\n",
    "    \n",
    "    spread_dict[sector] = np.mean(spread_list)\n",
    "    \n",
    "    high_return = np.array(high_return) +1\n",
    "    low_return = np.array(low_return) +1\n",
    "    high_return = np.cumprod(high_return)\n",
    "    low_return = np.cumprod(low_return)\n",
    "    \n",
    "    #plt.subplot(4,3,sector_list.index(sector)+1)\n",
    "    plt.plot(time_frame,high_return)\n",
    "    plt.plot(time_frame,low_return)\n",
    "    plt.legend('hl')\n",
    "    plt.title(sector+'('+str(percent*100)+'%'+')')\n",
    "    fig1 = plt.gcf()\n",
    "    fig1.savefig(sector+'.png', dpi=100)\n",
    "    plt.show()\n",
    "\n",
    "#group_1.sort_values( ['DATE','z_score_change'],ascending= ['True','True'])"
   ]
  },
  {
   "cell_type": "code",
   "execution_count": 47,
   "metadata": {},
   "outputs": [
    {
     "data": {
      "text/plain": [
       "46"
      ]
     },
     "execution_count": 47,
     "metadata": {},
     "output_type": "execute_result"
    }
   ],
   "source": [
    "len(high_return)"
   ]
  },
  {
   "cell_type": "code",
   "execution_count": 44,
   "metadata": {},
   "outputs": [
    {
     "data": {
      "text/plain": [
       "numpy.datetime64('2018-12-31T00:00:00.000000000')"
      ]
     },
     "execution_count": 44,
     "metadata": {},
     "output_type": "execute_result"
    }
   ],
   "source": [
    "date_list[45]"
   ]
  },
  {
   "cell_type": "code",
   "execution_count": 45,
   "metadata": {},
   "outputs": [
    {
     "data": {
      "text/plain": [
       "numpy.datetime64('2015-04-30T00:00:00.000000000')"
      ]
     },
     "execution_count": 45,
     "metadata": {},
     "output_type": "execute_result"
    }
   ],
   "source": [
    "date_list[1]"
   ]
  },
  {
   "cell_type": "markdown",
   "metadata": {},
   "source": [
    "### check significance"
   ]
  },
  {
   "cell_type": "code",
   "execution_count": 57,
   "metadata": {},
   "outputs": [],
   "source": [
    "confidence_interval = {}\n",
    "\n",
    "for i in sector_list:\n",
    "    confidence_interval[i] = []\n",
    "    \n",
    "    mean_value = np.mean(check_significance[i])\n",
    "    num = 1/(len(check_significance[i]))\n",
    "    variance = np.var(check_significance[i])\n",
    "    higher_bound = mean_value+1.96*np.power(variance*num,0.5)\n",
    "    lower_bound = (mean_value)-1.96*np.power(variance*num,0.5)\n",
    "    \n",
    "    confidence_interval[i].append(lower_bound)\n",
    "    confidence_interval[i].append(higher_bound)\n"
   ]
  },
  {
   "cell_type": "code",
   "execution_count": 58,
   "metadata": {},
   "outputs": [
    {
     "data": {
      "text/plain": [
       "{'Health Care': [-0.014136719094098082, 0.005091600307493321],\n",
       " 'Communication Services': [-0.03159538268970054, 0.005084812649542993],\n",
       " 'Industrials': [-0.0056310252866458264, 0.009742831550908753],\n",
       " 'Consumer Discretionary': [-0.0056158430141913475, 0.01617767946456069],\n",
       " 'Information Technology': [-0.010991086165125091, 0.006873424833137349],\n",
       " 'Utilities': [-0.007538437271884401, 0.005399658249945809],\n",
       " 'Financials': [-0.008090380034457724, 0.0030019896019435337],\n",
       " 'Materials': [-0.02354579959180828, 0.010570325284331609],\n",
       " 'Consumer Staples': [-0.007661117050504313, 0.009221567656840504],\n",
       " 'Real Estate': [-0.000591637449850909, 0.014659244520466803],\n",
       " 'Energy': [-0.008719645100877825, 0.01797484998950676]}"
      ]
     },
     "execution_count": 58,
     "metadata": {},
     "output_type": "execute_result"
    }
   ],
   "source": [
    "confidence_interval"
   ]
  },
  {
   "cell_type": "code",
   "execution_count": 59,
   "metadata": {},
   "outputs": [
    {
     "data": {
      "text/html": [
       "<div>\n",
       "<style scoped>\n",
       "    .dataframe tbody tr th:only-of-type {\n",
       "        vertical-align: middle;\n",
       "    }\n",
       "\n",
       "    .dataframe tbody tr th {\n",
       "        vertical-align: top;\n",
       "    }\n",
       "\n",
       "    .dataframe thead th {\n",
       "        text-align: right;\n",
       "    }\n",
       "</style>\n",
       "<table border=\"1\" class=\"dataframe\">\n",
       "  <thead>\n",
       "    <tr style=\"text-align: right;\">\n",
       "      <th></th>\n",
       "      <th>Health Care</th>\n",
       "      <th>Communication Services</th>\n",
       "      <th>Industrials</th>\n",
       "      <th>Consumer Discretionary</th>\n",
       "      <th>Information Technology</th>\n",
       "      <th>Utilities</th>\n",
       "      <th>Financials</th>\n",
       "      <th>Materials</th>\n",
       "      <th>Consumer Staples</th>\n",
       "      <th>Real Estate</th>\n",
       "      <th>Energy</th>\n",
       "    </tr>\n",
       "  </thead>\n",
       "  <tbody>\n",
       "    <tr>\n",
       "      <th>0</th>\n",
       "      <td>0.015026</td>\n",
       "      <td>0.022529</td>\n",
       "      <td>0.018126</td>\n",
       "      <td>-0.051221</td>\n",
       "      <td>-0.025563</td>\n",
       "      <td>-0.000916</td>\n",
       "      <td>-0.004623</td>\n",
       "      <td>-0.106402</td>\n",
       "      <td>0.009948</td>\n",
       "      <td>0.051792</td>\n",
       "      <td>-0.009720</td>\n",
       "    </tr>\n",
       "    <tr>\n",
       "      <th>1</th>\n",
       "      <td>0.075449</td>\n",
       "      <td>0.030880</td>\n",
       "      <td>-0.019783</td>\n",
       "      <td>0.022796</td>\n",
       "      <td>-0.018210</td>\n",
       "      <td>-0.013235</td>\n",
       "      <td>-0.004327</td>\n",
       "      <td>-0.048735</td>\n",
       "      <td>-0.013146</td>\n",
       "      <td>-0.024282</td>\n",
       "      <td>0.009037</td>\n",
       "    </tr>\n",
       "    <tr>\n",
       "      <th>2</th>\n",
       "      <td>0.005788</td>\n",
       "      <td>-0.026279</td>\n",
       "      <td>-0.005465</td>\n",
       "      <td>-0.022659</td>\n",
       "      <td>-0.001878</td>\n",
       "      <td>0.009184</td>\n",
       "      <td>-0.016130</td>\n",
       "      <td>-0.074290</td>\n",
       "      <td>-0.000888</td>\n",
       "      <td>0.010181</td>\n",
       "      <td>-0.026159</td>\n",
       "    </tr>\n",
       "    <tr>\n",
       "      <th>3</th>\n",
       "      <td>-0.029413</td>\n",
       "      <td>-0.001921</td>\n",
       "      <td>0.019317</td>\n",
       "      <td>0.066297</td>\n",
       "      <td>0.015622</td>\n",
       "      <td>-0.022581</td>\n",
       "      <td>-0.015126</td>\n",
       "      <td>-0.066114</td>\n",
       "      <td>0.021845</td>\n",
       "      <td>0.047831</td>\n",
       "      <td>-0.051139</td>\n",
       "    </tr>\n",
       "    <tr>\n",
       "      <th>4</th>\n",
       "      <td>0.078033</td>\n",
       "      <td>-0.126316</td>\n",
       "      <td>-0.017839</td>\n",
       "      <td>0.027702</td>\n",
       "      <td>-0.030944</td>\n",
       "      <td>0.016681</td>\n",
       "      <td>-0.004451</td>\n",
       "      <td>0.010843</td>\n",
       "      <td>0.031150</td>\n",
       "      <td>0.012947</td>\n",
       "      <td>0.005733</td>\n",
       "    </tr>\n",
       "  </tbody>\n",
       "</table>\n",
       "</div>"
      ],
      "text/plain": [
       "   Health Care  Communication Services  Industrials  Consumer Discretionary  \\\n",
       "0     0.015026                0.022529     0.018126               -0.051221   \n",
       "1     0.075449                0.030880    -0.019783                0.022796   \n",
       "2     0.005788               -0.026279    -0.005465               -0.022659   \n",
       "3    -0.029413               -0.001921     0.019317                0.066297   \n",
       "4     0.078033               -0.126316    -0.017839                0.027702   \n",
       "\n",
       "   Information Technology  Utilities  Financials  Materials  Consumer Staples  \\\n",
       "0               -0.025563  -0.000916   -0.004623  -0.106402          0.009948   \n",
       "1               -0.018210  -0.013235   -0.004327  -0.048735         -0.013146   \n",
       "2               -0.001878   0.009184   -0.016130  -0.074290         -0.000888   \n",
       "3                0.015622  -0.022581   -0.015126  -0.066114          0.021845   \n",
       "4               -0.030944   0.016681   -0.004451   0.010843          0.031150   \n",
       "\n",
       "   Real Estate    Energy  \n",
       "0     0.051792 -0.009720  \n",
       "1    -0.024282  0.009037  \n",
       "2     0.010181 -0.026159  \n",
       "3     0.047831 -0.051139  \n",
       "4     0.012947  0.005733  "
      ]
     },
     "execution_count": 59,
     "metadata": {},
     "output_type": "execute_result"
    }
   ],
   "source": [
    "df_box = pd.DataFrame()\n",
    "flag = 0\n",
    "for i in confidence_interval.keys():\n",
    "    \n",
    "    df_box[i] = list(check_significance[i])\n",
    "    \n",
    "    flag +=1\n",
    "df_box.head()"
   ]
  },
  {
   "cell_type": "code",
   "execution_count": 60,
   "metadata": {},
   "outputs": [
    {
     "data": {
      "image/png": "[encoded data removed]",
      "text/plain": [
       "<Figure size 1440x720 with 1 Axes>"
      ]
     },
     "metadata": {
      "needs_background": "light"
     },
     "output_type": "display_data"
    }
   ],
   "source": [
    "# spread data. high_return - low_return over times (<50 datapoint)in a given industry\n",
    "boxplot = df_box.boxplot(figsize=(20,10))"
   ]
  },
  {
   "cell_type": "code",
   "execution_count": 70,
   "metadata": {},
   "outputs": [
    {
     "data": {
      "text/plain": [
       "<matplotlib.axes._subplots.AxesSubplot at 0x1a4d2a8e240>"
      ]
     },
     "execution_count": 70,
     "metadata": {},
     "output_type": "execute_result"
    },
    {
     "data": {
      "image/png": "[encoded data removed]",
      "text/plain": [
       "<Figure size 432x288 with 1 Axes>"
      ]
     },
     "metadata": {
      "needs_background": "light"
     },
     "output_type": "display_data"
    }
   ],
   "source": [
    "#high_return low_return (monthly data) over time for a given industry\n",
    "\n",
    "df = pd.DataFrame()\n",
    "df.set_index = sector_list\n",
    "\n",
    "df['high'] = high_return_dict.values()\n",
    "df['low'] = low_return_dict.values()\n",
    "\n",
    "df.index = sector_list\n",
    "\n",
    "df.plot(kind='bar')"
   ]
  },
  {
   "cell_type": "code",
   "execution_count": 67,
   "metadata": {},
   "outputs": [
    {
     "data": {
      "text/plain": [
       "{'Health Care': [5,\n",
       "  5,\n",
       "  5,\n",
       "  5,\n",
       "  5,\n",
       "  5,\n",
       "  5,\n",
       "  5,\n",
       "  5,\n",
       "  5,\n",
       "  5,\n",
       "  5,\n",
       "  5,\n",
       "  5,\n",
       "  5,\n",
       "  5,\n",
       "  5,\n",
       "  5,\n",
       "  5,\n",
       "  5,\n",
       "  5,\n",
       "  5,\n",
       "  5,\n",
       "  5,\n",
       "  5,\n",
       "  5,\n",
       "  5,\n",
       "  5,\n",
       "  5,\n",
       "  5,\n",
       "  5,\n",
       "  5,\n",
       "  5,\n",
       "  5,\n",
       "  5,\n",
       "  5,\n",
       "  5,\n",
       "  5,\n",
       "  5,\n",
       "  5,\n",
       "  5,\n",
       "  5,\n",
       "  5,\n",
       "  5,\n",
       "  5],\n",
       " 'Communication Services': [2,\n",
       "  2,\n",
       "  2,\n",
       "  2,\n",
       "  2,\n",
       "  2,\n",
       "  2,\n",
       "  2,\n",
       "  2,\n",
       "  2,\n",
       "  2,\n",
       "  2,\n",
       "  2,\n",
       "  2,\n",
       "  2,\n",
       "  2,\n",
       "  2,\n",
       "  2,\n",
       "  2,\n",
       "  2,\n",
       "  2,\n",
       "  2,\n",
       "  2,\n",
       "  2,\n",
       "  2,\n",
       "  2,\n",
       "  2,\n",
       "  2,\n",
       "  2,\n",
       "  2,\n",
       "  2,\n",
       "  2,\n",
       "  2,\n",
       "  2,\n",
       "  2,\n",
       "  2,\n",
       "  2,\n",
       "  2,\n",
       "  2,\n",
       "  2,\n",
       "  2,\n",
       "  2,\n",
       "  2,\n",
       "  2,\n",
       "  2],\n",
       " 'Industrials': [5,\n",
       "  5,\n",
       "  5,\n",
       "  5,\n",
       "  5,\n",
       "  5,\n",
       "  5,\n",
       "  5,\n",
       "  5,\n",
       "  5,\n",
       "  5,\n",
       "  5,\n",
       "  5,\n",
       "  5,\n",
       "  5,\n",
       "  5,\n",
       "  5,\n",
       "  5,\n",
       "  5,\n",
       "  5,\n",
       "  5,\n",
       "  5,\n",
       "  5,\n",
       "  5,\n",
       "  5,\n",
       "  5,\n",
       "  5,\n",
       "  5,\n",
       "  5,\n",
       "  5,\n",
       "  5,\n",
       "  5,\n",
       "  5,\n",
       "  5,\n",
       "  5,\n",
       "  5,\n",
       "  5,\n",
       "  5,\n",
       "  5,\n",
       "  5,\n",
       "  5,\n",
       "  5,\n",
       "  5,\n",
       "  5,\n",
       "  5],\n",
       " 'Consumer Discretionary': [5,\n",
       "  5,\n",
       "  5,\n",
       "  5,\n",
       "  5,\n",
       "  5,\n",
       "  5,\n",
       "  5,\n",
       "  5,\n",
       "  5,\n",
       "  5,\n",
       "  5,\n",
       "  5,\n",
       "  5,\n",
       "  5,\n",
       "  5,\n",
       "  5,\n",
       "  5,\n",
       "  5,\n",
       "  5,\n",
       "  5,\n",
       "  5,\n",
       "  5,\n",
       "  5,\n",
       "  5,\n",
       "  5,\n",
       "  5,\n",
       "  5,\n",
       "  5,\n",
       "  5,\n",
       "  5,\n",
       "  5,\n",
       "  5,\n",
       "  5,\n",
       "  5,\n",
       "  5,\n",
       "  5,\n",
       "  5,\n",
       "  5,\n",
       "  5,\n",
       "  5,\n",
       "  5,\n",
       "  5,\n",
       "  5,\n",
       "  5],\n",
       " 'Information Technology': [6,\n",
       "  6,\n",
       "  6,\n",
       "  6,\n",
       "  6,\n",
       "  6,\n",
       "  6,\n",
       "  6,\n",
       "  6,\n",
       "  6,\n",
       "  6,\n",
       "  6,\n",
       "  6,\n",
       "  6,\n",
       "  6,\n",
       "  6,\n",
       "  6,\n",
       "  6,\n",
       "  6,\n",
       "  6,\n",
       "  6,\n",
       "  6,\n",
       "  6,\n",
       "  6,\n",
       "  6,\n",
       "  6,\n",
       "  6,\n",
       "  6,\n",
       "  6,\n",
       "  6,\n",
       "  6,\n",
       "  6,\n",
       "  6,\n",
       "  6,\n",
       "  6,\n",
       "  6,\n",
       "  6,\n",
       "  6,\n",
       "  6,\n",
       "  6,\n",
       "  6,\n",
       "  6,\n",
       "  6,\n",
       "  6,\n",
       "  6],\n",
       " 'Utilities': [3,\n",
       "  3,\n",
       "  3,\n",
       "  3,\n",
       "  3,\n",
       "  3,\n",
       "  3,\n",
       "  3,\n",
       "  3,\n",
       "  3,\n",
       "  3,\n",
       "  3,\n",
       "  3,\n",
       "  3,\n",
       "  3,\n",
       "  3,\n",
       "  3,\n",
       "  3,\n",
       "  3,\n",
       "  3,\n",
       "  3,\n",
       "  3,\n",
       "  3,\n",
       "  3,\n",
       "  3,\n",
       "  3,\n",
       "  3,\n",
       "  3,\n",
       "  3,\n",
       "  3,\n",
       "  3,\n",
       "  3,\n",
       "  3,\n",
       "  3,\n",
       "  3,\n",
       "  3,\n",
       "  3,\n",
       "  3,\n",
       "  3,\n",
       "  3,\n",
       "  3,\n",
       "  3,\n",
       "  3,\n",
       "  3,\n",
       "  3],\n",
       " 'Financials': [4,\n",
       "  4,\n",
       "  4,\n",
       "  4,\n",
       "  4,\n",
       "  4,\n",
       "  4,\n",
       "  4,\n",
       "  4,\n",
       "  4,\n",
       "  4,\n",
       "  4,\n",
       "  4,\n",
       "  4,\n",
       "  4,\n",
       "  4,\n",
       "  4,\n",
       "  4,\n",
       "  4,\n",
       "  4,\n",
       "  4,\n",
       "  4,\n",
       "  4,\n",
       "  4,\n",
       "  4,\n",
       "  4,\n",
       "  4,\n",
       "  4,\n",
       "  4,\n",
       "  4,\n",
       "  4,\n",
       "  4,\n",
       "  4,\n",
       "  4,\n",
       "  4,\n",
       "  4,\n",
       "  4,\n",
       "  4,\n",
       "  4,\n",
       "  4,\n",
       "  4,\n",
       "  4,\n",
       "  4,\n",
       "  4,\n",
       "  4],\n",
       " 'Materials': [2,\n",
       "  2,\n",
       "  2,\n",
       "  2,\n",
       "  2,\n",
       "  2,\n",
       "  2,\n",
       "  2,\n",
       "  2,\n",
       "  2,\n",
       "  2,\n",
       "  2,\n",
       "  2,\n",
       "  2,\n",
       "  2,\n",
       "  2,\n",
       "  2,\n",
       "  2,\n",
       "  2,\n",
       "  2,\n",
       "  2,\n",
       "  2,\n",
       "  2,\n",
       "  2,\n",
       "  2,\n",
       "  2,\n",
       "  2,\n",
       "  2,\n",
       "  2,\n",
       "  2,\n",
       "  2,\n",
       "  2,\n",
       "  2,\n",
       "  2,\n",
       "  2,\n",
       "  2,\n",
       "  2,\n",
       "  2,\n",
       "  2,\n",
       "  2,\n",
       "  2,\n",
       "  2,\n",
       "  2,\n",
       "  2,\n",
       "  2],\n",
       " 'Consumer Staples': [3,\n",
       "  3,\n",
       "  3,\n",
       "  3,\n",
       "  3,\n",
       "  3,\n",
       "  3,\n",
       "  3,\n",
       "  3,\n",
       "  3,\n",
       "  3,\n",
       "  3,\n",
       "  3,\n",
       "  3,\n",
       "  3,\n",
       "  3,\n",
       "  3,\n",
       "  3,\n",
       "  3,\n",
       "  3,\n",
       "  3,\n",
       "  3,\n",
       "  3,\n",
       "  3,\n",
       "  3,\n",
       "  3,\n",
       "  3,\n",
       "  3,\n",
       "  3,\n",
       "  3,\n",
       "  3,\n",
       "  3,\n",
       "  3,\n",
       "  3,\n",
       "  3,\n",
       "  3,\n",
       "  3,\n",
       "  3,\n",
       "  3,\n",
       "  3,\n",
       "  3,\n",
       "  3,\n",
       "  3,\n",
       "  3,\n",
       "  3],\n",
       " 'Real Estate': [3,\n",
       "  3,\n",
       "  3,\n",
       "  3,\n",
       "  3,\n",
       "  3,\n",
       "  3,\n",
       "  3,\n",
       "  3,\n",
       "  3,\n",
       "  3,\n",
       "  3,\n",
       "  3,\n",
       "  3,\n",
       "  3,\n",
       "  3,\n",
       "  3,\n",
       "  3,\n",
       "  3,\n",
       "  3,\n",
       "  3,\n",
       "  3,\n",
       "  3,\n",
       "  3,\n",
       "  3,\n",
       "  3,\n",
       "  3,\n",
       "  3,\n",
       "  3,\n",
       "  3,\n",
       "  3,\n",
       "  3,\n",
       "  3,\n",
       "  3,\n",
       "  3,\n",
       "  3,\n",
       "  3,\n",
       "  3,\n",
       "  3,\n",
       "  3,\n",
       "  3,\n",
       "  3,\n",
       "  3,\n",
       "  3,\n",
       "  3],\n",
       " 'Energy': [3,\n",
       "  3,\n",
       "  3,\n",
       "  3,\n",
       "  3,\n",
       "  3,\n",
       "  3,\n",
       "  3,\n",
       "  3,\n",
       "  3,\n",
       "  3,\n",
       "  3,\n",
       "  3,\n",
       "  3,\n",
       "  3,\n",
       "  3,\n",
       "  3,\n",
       "  3,\n",
       "  3,\n",
       "  3,\n",
       "  3,\n",
       "  3,\n",
       "  3,\n",
       "  3,\n",
       "  3,\n",
       "  3,\n",
       "  3,\n",
       "  3,\n",
       "  3,\n",
       "  3,\n",
       "  3,\n",
       "  3,\n",
       "  3,\n",
       "  3,\n",
       "  3,\n",
       "  3,\n",
       "  3,\n",
       "  3,\n",
       "  3,\n",
       "  3,\n",
       "  3,\n",
       "  3,\n",
       "  3,\n",
       "  3,\n",
       "  3]}"
      ]
     },
     "execution_count": 67,
     "metadata": {},
     "output_type": "execute_result"
    }
   ],
   "source": [
    "num_stocks_in_high"
   ]
  },
  {
   "cell_type": "code",
   "execution_count": 71,
   "metadata": {},
   "outputs": [
    {
     "data": {
      "text/plain": [
       "<matplotlib.axes._subplots.AxesSubplot at 0x1a4d20f2048>"
      ]
     },
     "execution_count": 71,
     "metadata": {},
     "output_type": "execute_result"
    },
    {
     "data": {
      "image/png": "[encoded data removed]",
      "text/plain": [
       "<Figure size 432x288 with 1 Axes>"
      ]
     },
     "metadata": {
      "needs_background": "light"
     },
     "output_type": "display_data"
    }
   ],
   "source": [
    "\n",
    "num_stocks = {}\n",
    "\n",
    "for i in sector_list:\n",
    "    mean = np.mean(num_stocks_in_high[i])\n",
    "    num_stocks[i] = mean\n",
    "\n",
    "\n",
    "\n",
    "df_num = pd.DataFrame()\n",
    "df_num.set_index = sector_list\n",
    "\n",
    "df_num['high'] = num_stocks.values()\n",
    "df_num['low'] = num_stocks.values()\n",
    "\n",
    "df_num.index = sector_list\n",
    "\n",
    "df_num.plot(kind='bar')"
   ]
  },
  {
   "cell_type": "code",
   "execution_count": null,
   "metadata": {},
   "outputs": [],
   "source": [
    "num_stocks = {}\n",
    "\n",
    "for i in sector_list:\n",
    "    mean = np.mean(num_stocks_in_high[i])\n",
    "    num_stocks[i] = mean\n",
    "\n"
   ]
  },
  {
   "cell_type": "code",
   "execution_count": 28,
   "metadata": {},
   "outputs": [
    {
     "data": {
      "text/plain": [
       "{'Health Care': 0.005596714401772975,\n",
       " 'Communication Services': 0.00040989386379463027,\n",
       " 'Industrials': 0.012975473329155742,\n",
       " 'Consumer Discretionary': 0.009979015185148188,\n",
       " 'Information Technology': 0.010808478699010991,\n",
       " 'Utilities': 0.005663271685585773,\n",
       " 'Financials': 0.003759364124920515,\n",
       " 'Materials': -0.00020114727676958004,\n",
       " 'Consumer Staples': 0.001705199078446852,\n",
       " 'Real Estate': 0.006236240302060263,\n",
       " 'Energy': 0.00023383267199879744}"
      ]
     },
     "execution_count": 28,
     "metadata": {},
     "output_type": "execute_result"
    }
   ],
   "source": [
    "high_return_dict"
   ]
  },
  {
   "cell_type": "code",
   "execution_count": 29,
   "metadata": {},
   "outputs": [
    {
     "data": {
      "text/plain": [
       "{'Health Care': 0.011944621644029206,\n",
       " 'Communication Services': 0.016139660503753487,\n",
       " 'Industrials': 0.010844248700556785,\n",
       " 'Consumer Discretionary': 0.005046902062648542,\n",
       " 'Information Technology': 0.014753861438637921,\n",
       " 'Utilities': 0.008117728719229418,\n",
       " 'Financials': 0.008398849398697238,\n",
       " 'Materials': 0.011053120097159702,\n",
       " 'Consumer Staples': 0.006514605398068089,\n",
       " 'Real Estate': -0.00022753495793765698,\n",
       " 'Energy': -0.006563022130252355}"
      ]
     },
     "execution_count": 29,
     "metadata": {},
     "output_type": "execute_result"
    }
   ],
   "source": [
    "low_return_dict"
   ]
  },
  {
   "cell_type": "code",
   "execution_count": 32,
   "metadata": {},
   "outputs": [
    {
     "data": {
      "text/plain": [
       "{'Health Care': 8,\n",
       " 'Communication Services': 3,\n",
       " 'Industrials': 8,\n",
       " 'Consumer Discretionary': 8,\n",
       " 'Information Technology': 9,\n",
       " 'Utilities': 4,\n",
       " 'Financials': 6,\n",
       " 'Materials': 3,\n",
       " 'Consumer Staples': 4,\n",
       " 'Real Estate': 4,\n",
       " 'Energy': 4}"
      ]
     },
     "execution_count": 32,
     "metadata": {},
     "output_type": "execute_result"
    }
   ],
   "source": [
    "num_stocks_in_high"
   ]
  },
  {
   "cell_type": "code",
   "execution_count": 33,
   "metadata": {},
   "outputs": [
    {
     "data": {
      "text/plain": [
       "{'Health Care': 8,\n",
       " 'Communication Services': 3,\n",
       " 'Industrials': 8,\n",
       " 'Consumer Discretionary': 8,\n",
       " 'Information Technology': 9,\n",
       " 'Utilities': 4,\n",
       " 'Financials': 6,\n",
       " 'Materials': 3,\n",
       " 'Consumer Staples': 4,\n",
       " 'Real Estate': 4,\n",
       " 'Energy': 4}"
      ]
     },
     "execution_count": 33,
     "metadata": {},
     "output_type": "execute_result"
    }
   ],
   "source": [
    "num_stocks_in_low"
   ]
  },
  {
   "cell_type": "code",
   "execution_count": null,
   "metadata": {},
   "outputs": [],
   "source": []
  },
  {
   "cell_type": "code",
   "execution_count": null,
   "metadata": {},
   "outputs": [],
   "source": []
  },
  {
   "cell_type": "code",
   "execution_count": null,
   "metadata": {},
   "outputs": [],
   "source": []
  }
 ],
 "metadata": {
  "kernelspec": {
   "display_name": "Python 3",
   "language": "python",
   "name": "python3"
  },
  "language_info": {
   "codemirror_mode": {
    "name": "ipython",
    "version": 3
   },
   "file_extension": ".py",
   "mimetype": "text/x-python",
   "name": "python",
   "nbconvert_exporter": "python",
   "pygments_lexer": "ipython3",
   "version": "3.7.3"
  }
 },
 "nbformat": 4,
 "nbformat_minor": 2
}
